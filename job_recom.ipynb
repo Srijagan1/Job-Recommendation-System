{
  "cells": [
    {
      "cell_type": "code",
      "execution_count": null,
      "metadata": {
        "colab": {
          "base_uri": "https://localhost:8080/"
        },
        "id": "NGUU21qnGiBE",
        "outputId": "ab8a1816-df18-4801-b73c-5b1ddfccd8d5"
      },
      "outputs": [],
      "source": [
        "# -----------------------------\n",
        "# Step 1: Install dependencies\n",
        "# -----------------------------\n",
        "# !pip install nltk spacy pyresparser scikit-learn pandas\n",
        "!pip install pyresparser\n",
        "!apt-get install -y poppler-utils\n",
        "!python -m nltk.downloader all\n",
        "!python -m spacy download en_core_web_sm\n",
        "\n",
        "\n",
        "# Download NLTK and spaCy resources\n",
        "# !python -m spacy download en_core_web_sm\n",
        "import nltk\n",
        "nltk.download('stopwords')\n",
        "nltk.download('punkt')\n",
        "nltk.download('wordnet')"
      ]
    },
    {
      "cell_type": "code",
      "execution_count": null,
      "metadata": {
        "colab": {
          "base_uri": "https://localhost:8080/",
          "height": 445
        },
        "id": "T8KXy7BaGk9r",
        "outputId": "1b13e226-d15a-4f06-bac0-e3f77812b7bb"
      },
      "outputs": [],
      "source": [
        "# -----------------------------\n",
        "# Step 2: Resume Parsing\n",
        "# -----------------------------\n",
        "from pyresparser import ResumeParser\n",
        "\n",
        "resume_path = 'My Resume.pdf'\n",
        "\n",
        "data = ResumeParser(resume_path).get_extracted_data()\n",
        "print(\"Extracted Resume Data:\")\n",
        "print(data)"
      ]
    },
    {
      "cell_type": "code",
      "execution_count": null,
      "metadata": {
        "id": "tJI83bp4GoAz"
      },
      "outputs": [],
      "source": [
        "# -----------------------------\n",
        "# Step 3: Sample Job Dataset\n",
        "# -----------------------------\n",
        "import pandas as pd\n",
        "\n",
        "# Example job descriptions (in real case, load from DB or CSV)\n",
        "job_data = [\n",
        "    {\n",
        "        \"job_title\": \"Data Scientist\",\n",
        "        \"description\": \"Looking for a data scientist skilled in Python, machine learning, and statistics.\",\n",
        "        \"skills_required\": \"Python, Machine Learning, Statistics\"\n",
        "    },\n",
        "    {\n",
        "        \"job_title\": \"Software Engineer\",\n",
        "        \"description\": \"Developer needed with strong Java and system design experience.\",\n",
        "        \"skills_required\": \"Java, System Design, OOP\"\n",
        "    },\n",
        "    {\n",
        "        \"job_title\": \"ML Engineer\",\n",
        "        \"description\": \"We require an ML Engineer with experience in TensorFlow and deployment.\",\n",
        "        \"skills_required\": \"TensorFlow, Deployment, Docker\"\n",
        "    },\n",
        "    {\n",
        "        \"job_title\": \"Data Analyst\",\n",
        "        \"description\": \"Role involves SQL, data visualization, and business intelligence tools.\",\n",
        "        \"skills_required\": \"SQL, Tableau, Excel\"\n",
        "    }\n",
        "]\n",
        "\n",
        "df_jobs = pd.DataFrame(job_data)"
      ]
    },
    {
      "cell_type": "code",
      "execution_count": null,
      "metadata": {
        "id": "S0znDf1-GpjE"
      },
      "outputs": [],
      "source": [
        "# -----------------------------\n",
        "# Step 4: Text Preprocessing\n",
        "# -----------------------------\n",
        "from sklearn.feature_extraction.text import TfidfVectorizer\n",
        "from sklearn.metrics.pairwise import cosine_similarity\n",
        "\n",
        "# Combine job description and skills into one field\n",
        "df_jobs['combined_text'] = df_jobs['description'] + ' ' + df_jobs['skills_required']\n",
        "\n",
        "# Combine user's skills and other fields\n",
        "user_text = ''\n",
        "if data.get('skills'):\n",
        "    user_text += ' '.join(data['skills'])\n",
        "if data.get('experience'):\n",
        "    user_text += ' ' + str(data['experience'])"
      ]
    },
    {
      "cell_type": "code",
      "execution_count": null,
      "metadata": {
        "id": "zd9tfTgnGM8s"
      },
      "outputs": [],
      "source": [
        "# -----------------------------\n",
        "# Step 5: Compute Similarities\n",
        "# -----------------------------\n",
        "all_texts = [user_text] + list(df_jobs['combined_text'].values)\n",
        "\n",
        "tfidf = TfidfVectorizer(stop_words='english')\n",
        "tfidf_matrix = tfidf.fit_transform(all_texts)\n",
        "\n",
        "# Cosine similarity: user (index 0) vs all job descriptions\n",
        "cosine_sim = cosine_similarity(tfidf_matrix[0:1], tfidf_matrix[1:])[0]\n",
        "\n",
        "# Add similarity scores to DataFrame\n",
        "df_jobs['match_score'] = cosine_sim\n",
        "\n",
        "# Sort by match score\n",
        "recommended_jobs = df_jobs.sort_values(by='match_score', ascending=False)"
      ]
    },
    {
      "cell_type": "code",
      "execution_count": null,
      "metadata": {
        "id": "y0FsDkUxGsKL"
      },
      "outputs": [],
      "source": [
        "# -----------------------------\n",
        "# Step 6: Show Recommendations\n",
        "# -----------------------------\n",
        "print(\"\\nTop Job Recommendations:\")\n",
        "print(recommended_jobs[['job_title', 'match_score']])"
      ]
    }
  ],
  "metadata": {
    "colab": {
      "provenance": []
    },
    "kernelspec": {
      "display_name": "base",
      "language": "python",
      "name": "python3"
    },
    "language_info": {
      "codemirror_mode": {
        "name": "ipython",
        "version": 3
      },
      "file_extension": ".py",
      "mimetype": "text/x-python",
      "name": "python",
      "nbconvert_exporter": "python",
      "pygments_lexer": "ipython3",
      "version": "3.12.4"
    }
  },
  "nbformat": 4,
  "nbformat_minor": 0
}
